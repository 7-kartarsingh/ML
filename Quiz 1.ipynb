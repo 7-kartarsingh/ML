{
 "cells": [
  {
   "cell_type": "code",
   "execution_count": 35,
   "metadata": {},
   "outputs": [
    {
     "name": "stdout",
     "output_type": "stream",
     "text": [
      "ANSWER 1-\n",
      "Enter the number --> 4\n",
      "4\n"
     ]
    }
   ],
   "source": [
    "print\"ANSWER 1-\"\n",
    "a=str(raw_input(\"Enter the number --> \"))\n",
    "print a"
   ]
  },
  {
   "cell_type": "code",
   "execution_count": 36,
   "metadata": {},
   "outputs": [
    {
     "name": "stdout",
     "output_type": "stream",
     "text": [
      "ANSWER 2-\n",
      "Age of Mr. Robben is 33 years.\n"
     ]
    }
   ],
   "source": [
    "print\"ANSWER 2-\"\n",
    "age=33\n",
    "print(\"Age of Mr. Robben is \"+str(age)+\" years.\")"
   ]
  },
  {
   "cell_type": "code",
   "execution_count": 37,
   "metadata": {},
   "outputs": [
    {
     "name": "stdout",
     "output_type": "stream",
     "text": [
      "ANSWER 3-\n",
      "Enter the number --> -4\n",
      "Negative\n"
     ]
    }
   ],
   "source": [
    "print\"ANSWER 3-\"\n",
    "a=int(raw_input(\"Enter the number --> \"))\n",
    "if (a<0):\n",
    "    print(\"Negative\")\n",
    "elif (a>0):\n",
    "    print(\"Positive\")\n",
    "else:\n",
    "    print(\"Aryabhatta\")"
   ]
  },
  {
   "cell_type": "code",
   "execution_count": null,
   "metadata": {},
   "outputs": [],
   "source": []
  }
 ],
 "metadata": {
  "kernelspec": {
   "display_name": "Python 2",
   "language": "python",
   "name": "python2"
  },
  "language_info": {
   "codemirror_mode": {
    "name": "ipython",
    "version": 2
   },
   "file_extension": ".py",
   "mimetype": "text/x-python",
   "name": "python",
   "nbconvert_exporter": "python",
   "pygments_lexer": "ipython2",
   "version": "2.7.14"
  }
 },
 "nbformat": 4,
 "nbformat_minor": 2
}
